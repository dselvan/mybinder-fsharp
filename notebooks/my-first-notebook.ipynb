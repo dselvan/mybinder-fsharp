{
 "cells": [
  {
   "cell_type": "markdown",
   "metadata": {},
   "source": [
    "# My First Notebook"
   ]
  },
  {
   "cell_type": "markdown",
   "metadata": {},
   "source": [
    "Some example code follows "
   ]
  },
  {
   "cell_type": "code",
   "execution_count": null,
   "metadata": {},
   "outputs": [],
   "source": [
    "module Test =\n",
    "    let toPigLatin (word: string) =\n",
    "        let isVowel (c: char) =\n",
    "            match c with\n",
    "            | 'a' | 'e' | 'i' |'o' |'u'\n",
    "            | 'A' | 'E' | 'I' | 'O' | 'U' -> true\n",
    "            |_ -> false\n",
    "\n",
    "         if isVowel word.[0] then word + \"yay\" else word.[1..] + string(word.[0]) + \"ay\""
   ]
  },
  {
   "cell_type": "code",
   "execution_count": 4,
   "metadata": {},
   "outputs": [
    {
     "name": "stderr",
     "output_type": "stream",
     "text": [
      "Stopped due to error\n"
     ]
    },
    {
     "ename": "Unhandled exception",
     "evalue": "input.fsx (1,1)-(1,9) typecheck error The value, namespace, type or module 'PigLatin' is not defined.",
     "output_type": "error",
     "traceback": [
      "input.fsx (1,1)-(1,9) typecheck error The value, namespace, type or module 'PigLatin' is not defined."
     ]
    }
   ],
   "source": [
    "PigLatin.toPigLatin \"fsharp\""
   ]
  },
  {
   "cell_type": "code",
   "execution_count": null,
   "metadata": {},
   "outputs": [],
   "source": []
  }
 ],
 "metadata": {
  "kernelspec": {
   "display_name": ".NET (F#)",
   "language": "F#",
   "name": ".net-fsharp"
  },
  "language_info": {
   "file_extension": ".fs",
   "mimetype": "text/x-fsharp",
   "name": "C#",
   "pygments_lexer": "fsharp",
   "version": "4.5"
  }
 },
 "nbformat": 4,
 "nbformat_minor": 2
}
